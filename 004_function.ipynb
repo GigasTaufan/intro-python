{
  "nbformat": 4,
  "nbformat_minor": 0,
  "metadata": {
    "colab": {
      "name": "004_function",
      "provenance": [],
      "authorship_tag": "ABX9TyMrgv/5N+OLcznMGWVsLJ62",
      "include_colab_link": true
    },
    "kernelspec": {
      "name": "python3",
      "display_name": "Python 3"
    }
  },
  "cells": [
    {
      "cell_type": "markdown",
      "metadata": {
        "id": "view-in-github",
        "colab_type": "text"
      },
      "source": [
        "<a href=\"https://colab.research.google.com/github/rc-dbe/intro-python/blob/master/004_function.ipynb\" target=\"_parent\"><img src=\"https://colab.research.google.com/assets/colab-badge.svg\" alt=\"Open In Colab\"/></a>"
      ]
    },
    {
      "cell_type": "markdown",
      "metadata": {
        "id": "K62nVPYYwPRt",
        "colab_type": "text"
      },
      "source": [
        "*Research Center Digital Business Ecosystem - Telkom University*\n",
        "\n",
        "\n",
        "---\n",
        "\n"
      ]
    },
    {
      "cell_type": "markdown",
      "metadata": {
        "id": "0lv5orlUufRY",
        "colab_type": "text"
      },
      "source": [
        "# **Function**\n",
        "A function is a set of statements that take inputs, do some specific computation and produces output. The idea is to put some commonly or repeatedly done task together and make a function, so that instead of writing the same code again and again for different inputs, we can call the function."
      ]
    },
    {
      "cell_type": "markdown",
      "metadata": {
        "id": "4RbjRwPT2Ncu",
        "colab_type": "text"
      },
      "source": [
        "## **Default Arguments**\n",
        "A default argument is a parameter that assumes a default value if a value is not provided in the function call for that argument.The following example illustrates Default arguments."
      ]
    },
    {
      "cell_type": "code",
      "metadata": {
        "id": "jvrGjm0C4dHS",
        "colab_type": "code",
        "colab": {}
      },
      "source": [
        "# Python program to demonstrate \n",
        "# default arguments \n",
        "def myFun(x, y=50): \n",
        "\tprint(\"x: \", x) \n",
        "\tprint(\"y: \", y) \n",
        "\n",
        "# Driver code (We call myFun() with only \n",
        "# argument) \n",
        "myFun(10) "
      ],
      "execution_count": null,
      "outputs": []
    },
    {
      "cell_type": "markdown",
      "metadata": {
        "colab_type": "text",
        "id": "cwiKOVYx41l_"
      },
      "source": [
        "## **Keyword Arguments**\n",
        "The idea is to allow caller to specify argument name with values so that caller does not need to remember order of parameters"
      ]
    },
    {
      "cell_type": "code",
      "metadata": {
        "colab_type": "code",
        "id": "oMxEpk5b41mD",
        "colab": {}
      },
      "source": [
        "# Python program to demonstrate Keyword Arguments \n",
        "def student(firstname, lastname): \n",
        "\tprint(firstname, lastname) \n",
        "\t\n",
        "\t\n",
        "# Keyword arguments\t\t\t\t \n",
        "student(firstname ='Geeks', lastname ='Practice')\t \n",
        "student(lastname ='Practice', firstname ='Geeks') "
      ],
      "execution_count": null,
      "outputs": []
    },
    {
      "cell_type": "markdown",
      "metadata": {
        "colab_type": "text",
        "id": "vL38OXJT5DU1"
      },
      "source": [
        "## **Variable length arguments**\n",
        "We can have both normal and keyword variable number of arguments. Please see this for details."
      ]
    },
    {
      "cell_type": "code",
      "metadata": {
        "colab_type": "code",
        "id": "wTiBPyuf5DU5",
        "colab": {}
      },
      "source": [
        "# Python program to illustrate \n",
        "# *args for variable number of arguments \n",
        "def myFun(*argv): \n",
        "\tfor arg in argv: \n",
        "\t\tprint (arg) \n",
        "\t\n",
        "myFun('Hello', 'Welcome', 'to', 'GeeksforGeeks') \n"
      ],
      "execution_count": null,
      "outputs": []
    },
    {
      "cell_type": "code",
      "metadata": {
        "id": "8rrFGnDc5MM9",
        "colab_type": "code",
        "colab": {}
      },
      "source": [
        "# Python program to illustrate \n",
        "# *kargs for variable number of keyword arguments \n",
        "\n",
        "def myFun(**kwargs): \n",
        "\tfor key, value in kwargs.items(): \n",
        "\t\tprint (\"%s == %s\" %(key, value)) \n",
        "\n",
        "# Driver code \n",
        "myFun(first ='Geeks', mid ='for', last='Geeks')\t \n"
      ],
      "execution_count": null,
      "outputs": []
    },
    {
      "cell_type": "markdown",
      "metadata": {
        "colab_type": "text",
        "id": "RE-nfDqO5OXK"
      },
      "source": [
        "## **Anonymous functions**\n",
        "In Python, anonymous function means that a function is without a name. As we already know that def keyword is used to define the normal functions and the lambda keyword is used to create anonymous functions."
      ]
    },
    {
      "cell_type": "code",
      "metadata": {
        "colab_type": "code",
        "id": "D64eVbcX5OXN",
        "colab": {}
      },
      "source": [
        "# Python code to illustrate cube of a number \n",
        "# using labmda function \n",
        "\t\n",
        "cube = lambda x: x*x*x \n",
        "print(cube(7)) "
      ],
      "execution_count": null,
      "outputs": []
    }
  ]
}