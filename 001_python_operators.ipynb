{
  "nbformat": 4,
  "nbformat_minor": 0,
  "metadata": {
    "colab": {
      "name": "001_python-operators.ipynb",
      "provenance": [],
      "collapsed_sections": [],
      "include_colab_link": true
    },
    "kernelspec": {
      "name": "python3",
      "display_name": "Python 3"
    }
  },
  "cells": [
    {
      "cell_type": "markdown",
      "metadata": {
        "id": "view-in-github",
        "colab_type": "text"
      },
      "source": [
        "<a href=\"https://colab.research.google.com/github/yudhafebrianta/intro-python/blob/master/001_python_operators.ipynb\" target=\"_parent\"><img src=\"https://colab.research.google.com/assets/colab-badge.svg\" alt=\"Open In Colab\"/></a>"
      ]
    },
    {
      "cell_type": "markdown",
      "metadata": {
        "id": "K62nVPYYwPRt",
        "colab_type": "text"
      },
      "source": [
        "*Research Center Digital Business Ecosystem - Telkom University*\n",
        "\n",
        "\n",
        "---\n",
        "\n"
      ]
    },
    {
      "cell_type": "markdown",
      "metadata": {
        "id": "Eg_YAnsgm28p",
        "colab_type": "text"
      },
      "source": [
        "Introduction"
      ]
    },
    {
      "cell_type": "code",
      "metadata": {
        "id": "wMrCnAvlm6_t",
        "colab_type": "code",
        "colab": {
          "base_uri": "https://localhost:8080/",
          "height": 87
        },
        "outputId": "791be9f0-90da-41a9-da96-31c5784a8f11"
      },
      "source": [
        "# Correct indentation\n",
        "print (\"Programming is an important skill for Data Science\")\n",
        "print (\"Statistics is an important skill for Data Science\")\n",
        "print (\"Business domain knowledge is an important skill for Data Science\")\n",
        "# Correct indentation, note that if statement here is an example of suites\n",
        "x = 1\n",
        "if x == 1:\n",
        "  print ('x has a value of 1')\n",
        "else:\n",
        "  print ('x does NOT have a value of 1')"
      ],
      "execution_count": null,
      "outputs": [
        {
          "output_type": "stream",
          "text": [
            "Programming is an important skill for Data Science\n",
            "Statistics is an important skill for Data Science\n",
            "Business domain knowledge is an important skill for Data Science\n",
            "x has a value of 1\n"
          ],
          "name": "stdout"
        }
      ]
    },
    {
      "cell_type": "code",
      "metadata": {
        "id": "YPearAgdnNRN",
        "colab_type": "code",
        "colab": {
          "base_uri": "https://localhost:8080/",
          "height": 133
        },
        "outputId": "fd625e2a-e81f-431f-bf9a-331872ccbf22"
      },
      "source": [
        "# incorrect indentation, program will generate a syntax error\n",
        "# due to the space character inserted at the beginning of the second line\n",
        "print (\"Programming is an important skill for Data Science\")\n",
        "print (\"Statistics is an important skill for Data Science\")\n",
        "print (\"Business domain knowledge is an important skill for Data Science\")\n",
        "3\n",
        "# incorrect indentation, program will generate a syntax error\n",
        "# due to the wrong indentation in the else statement\n",
        "x = 1\n",
        "if x == 1:"
      ],
      "execution_count": null,
      "outputs": [
        {
          "output_type": "error",
          "ename": "SyntaxError",
          "evalue": "ignored",
          "traceback": [
            "\u001b[0;36m  File \u001b[0;32m\"<ipython-input-4-03810f65b332>\"\u001b[0;36m, line \u001b[0;32m10\u001b[0m\n\u001b[0;31m    if x == 1:\u001b[0m\n\u001b[0m              ^\u001b[0m\n\u001b[0;31mSyntaxError\u001b[0m\u001b[0;31m:\u001b[0m unexpected EOF while parsing\n"
          ]
        }
      ]
    },
    {
      "cell_type": "markdown",
      "metadata": {
        "id": "0lv5orlUufRY",
        "colab_type": "text"
      },
      "source": [
        "# **Python Operators**\n",
        "Operators are special symbols in Python that carry out arithmetic or logical computation. The value that the operator operates on is called the operand."
      ]
    },
    {
      "cell_type": "markdown",
      "metadata": {
        "id": "2EW91AFVuYzA",
        "colab_type": "text"
      },
      "source": [
        "## **Arithmetic Operators**\n",
        "Arithmetic operators are used to perform mathematical operations like addition, subtraction, multiplication and division"
      ]
    },
    {
      "cell_type": "code",
      "metadata": {
        "id": "JlWQwGbeu9Vi",
        "colab_type": "code",
        "colab": {}
      },
      "source": [
        "# Examples of Arithmetic Operator \n",
        "a = 9\n",
        "b = 4"
      ],
      "execution_count": null,
      "outputs": []
    },
    {
      "cell_type": "code",
      "metadata": {
        "id": "U-2ojMAau-bh",
        "colab_type": "code",
        "colab": {}
      },
      "source": [
        "# Addition of numbers \n",
        "add = a + b \n",
        "print(add)"
      ],
      "execution_count": null,
      "outputs": []
    },
    {
      "cell_type": "code",
      "metadata": {
        "id": "1lI0cqhku_af",
        "colab_type": "code",
        "colab": {}
      },
      "source": [
        "# Subtraction of numbers \n",
        "sub = a - b\n",
        "print(sub)"
      ],
      "execution_count": null,
      "outputs": []
    },
    {
      "cell_type": "code",
      "metadata": {
        "id": "aq94CaHcvAtL",
        "colab_type": "code",
        "colab": {}
      },
      "source": [
        "# Multiplication of number \n",
        "mul = a * b\n",
        "print(mul)"
      ],
      "execution_count": null,
      "outputs": []
    },
    {
      "cell_type": "code",
      "metadata": {
        "id": "QN376mH2vBzT",
        "colab_type": "code",
        "colab": {}
      },
      "source": [
        "# Division(float) of number \n",
        "div1 = a / b\n",
        "print(div1)"
      ],
      "execution_count": null,
      "outputs": []
    },
    {
      "cell_type": "code",
      "metadata": {
        "id": "TULWbWpYvCuH",
        "colab_type": "code",
        "colab": {}
      },
      "source": [
        "# Division(floor) of number \n",
        "div2 = a // b\n",
        "print(div2)"
      ],
      "execution_count": null,
      "outputs": []
    },
    {
      "cell_type": "code",
      "metadata": {
        "id": "Ozi9_AP7vD2e",
        "colab_type": "code",
        "colab": {}
      },
      "source": [
        "# Modulo of both number \n",
        "mod = a % b\n",
        "print(mod)"
      ],
      "execution_count": null,
      "outputs": []
    },
    {
      "cell_type": "code",
      "metadata": {
        "id": "YFyKlOEuvEuD",
        "colab_type": "code",
        "colab": {}
      },
      "source": [
        "# Power \n",
        "p = a ** b print(p) \n",
        "print(p) "
      ],
      "execution_count": null,
      "outputs": []
    },
    {
      "cell_type": "markdown",
      "metadata": {
        "colab_type": "text",
        "id": "LjeacFbAvZwX"
      },
      "source": [
        "## **Relational Operators**\n",
        "Relational operators compares the values. It either returns True or False according to the condition."
      ]
    },
    {
      "cell_type": "code",
      "metadata": {
        "id": "zEhUA1T2vg7v",
        "colab_type": "code",
        "colab": {}
      },
      "source": [
        "# Examples of Relational Operators \n",
        "a = 13\n",
        "b = 33"
      ],
      "execution_count": null,
      "outputs": []
    },
    {
      "cell_type": "code",
      "metadata": {
        "id": "2Gey_yNJvh46",
        "colab_type": "code",
        "colab": {}
      },
      "source": [
        "# a > b is False \n",
        "print(a > b) "
      ],
      "execution_count": null,
      "outputs": []
    },
    {
      "cell_type": "code",
      "metadata": {
        "id": "vrYVQnG0vjya",
        "colab_type": "code",
        "colab": {}
      },
      "source": [
        "# a < b is True \n",
        "print(a < b)"
      ],
      "execution_count": null,
      "outputs": []
    },
    {
      "cell_type": "code",
      "metadata": {
        "id": "9isNGRJHvk3S",
        "colab_type": "code",
        "colab": {}
      },
      "source": [
        "# a == b is False \n",
        "print(a == b) "
      ],
      "execution_count": null,
      "outputs": []
    },
    {
      "cell_type": "code",
      "metadata": {
        "id": "EJFOU_Cyvl4y",
        "colab_type": "code",
        "colab": {}
      },
      "source": [
        "# a != b is True \n",
        "print(a != b)"
      ],
      "execution_count": null,
      "outputs": []
    },
    {
      "cell_type": "code",
      "metadata": {
        "id": "ZY-eFfkmvmtF",
        "colab_type": "code",
        "colab": {}
      },
      "source": [
        "# a >= b is False \n",
        "print(a >= b) "
      ],
      "execution_count": null,
      "outputs": []
    },
    {
      "cell_type": "code",
      "metadata": {
        "id": "SI2_QVvjvndW",
        "colab_type": "code",
        "colab": {}
      },
      "source": [
        "# a <= b is True \n",
        "print(a <= b) "
      ],
      "execution_count": null,
      "outputs": []
    },
    {
      "cell_type": "markdown",
      "metadata": {
        "colab_type": "text",
        "id": "Tsy1_Acav1V1"
      },
      "source": [
        "## **Logical operators**\n",
        "Logical operators perform Logical AND, Logical OR and Logical NOT operations."
      ]
    },
    {
      "cell_type": "code",
      "metadata": {
        "id": "v2HfzzQHwCX2",
        "colab_type": "code",
        "colab": {}
      },
      "source": [
        "# Examples of Logical Operator \n",
        "a = True\n",
        "b = False"
      ],
      "execution_count": null,
      "outputs": []
    },
    {
      "cell_type": "code",
      "metadata": {
        "id": "XHh4H-BAwDIa",
        "colab_type": "code",
        "colab": {}
      },
      "source": [
        "# Print a and b is False \n",
        "print(a and b) "
      ],
      "execution_count": null,
      "outputs": []
    },
    {
      "cell_type": "code",
      "metadata": {
        "id": "RcYVQkWiwD07",
        "colab_type": "code",
        "colab": {}
      },
      "source": [
        "# Print a or b is True \n",
        "print(a or b) "
      ],
      "execution_count": null,
      "outputs": []
    },
    {
      "cell_type": "code",
      "metadata": {
        "id": "cnGvy1XmwErA",
        "colab_type": "code",
        "colab": {}
      },
      "source": [
        "# Print not a is False \n",
        "print(not a) "
      ],
      "execution_count": null,
      "outputs": []
    },
    {
      "cell_type": "markdown",
      "metadata": {
        "colab_type": "text",
        "id": "bysk57M5wNxc"
      },
      "source": [
        "## **Bitwise operators**\n",
        "Bitwise operators acts on bits and performs bit by bit operation."
      ]
    },
    {
      "cell_type": "code",
      "metadata": {
        "id": "z_0jyh8Pwjlb",
        "colab_type": "code",
        "colab": {}
      },
      "source": [
        "# Examples of Bitwise operators \n",
        "a = 10\n",
        "b = 4"
      ],
      "execution_count": null,
      "outputs": []
    },
    {
      "cell_type": "code",
      "metadata": {
        "id": "KezIoEnFwklM",
        "colab_type": "code",
        "colab": {}
      },
      "source": [
        "# Print bitwise AND operation \n",
        "print(a & b)"
      ],
      "execution_count": null,
      "outputs": []
    },
    {
      "cell_type": "code",
      "metadata": {
        "id": "U0h6nOstwmSt",
        "colab_type": "code",
        "colab": {}
      },
      "source": [
        "# Print bitwise OR operation \n",
        "print(a | b)"
      ],
      "execution_count": null,
      "outputs": []
    },
    {
      "cell_type": "code",
      "metadata": {
        "id": "0IPfapbGwnFs",
        "colab_type": "code",
        "colab": {}
      },
      "source": [
        "# Print bitwise NOT operation \n",
        "print(~a)"
      ],
      "execution_count": null,
      "outputs": []
    },
    {
      "cell_type": "code",
      "metadata": {
        "id": "XjI4ysw4wn9W",
        "colab_type": "code",
        "colab": {}
      },
      "source": [
        "# print bitwise XOR operation \n",
        "print(a ^ b) "
      ],
      "execution_count": null,
      "outputs": []
    },
    {
      "cell_type": "code",
      "metadata": {
        "id": "9jwEy4pRwo5C",
        "colab_type": "code",
        "colab": {}
      },
      "source": [
        "# print bitwise right shift operation \n",
        "print(a >> 2)"
      ],
      "execution_count": null,
      "outputs": []
    },
    {
      "cell_type": "code",
      "metadata": {
        "id": "5m6AcSBOwpq4",
        "colab_type": "code",
        "colab": {}
      },
      "source": [
        "# print bitwise left shift operation \n",
        "print(a << 2)"
      ],
      "execution_count": null,
      "outputs": []
    }
  ]
}