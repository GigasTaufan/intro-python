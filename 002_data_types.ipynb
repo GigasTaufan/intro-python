{
  "nbformat": 4,
  "nbformat_minor": 0,
  "metadata": {
    "colab": {
      "name": "002_data-types.ipynb",
      "provenance": [],
      "authorship_tag": "ABX9TyMp5bO6laOL4aeK9bOLJQqq",
      "include_colab_link": true
    },
    "kernelspec": {
      "name": "python3",
      "display_name": "Python 3"
    }
  },
  "cells": [
    {
      "cell_type": "markdown",
      "metadata": {
        "id": "view-in-github",
        "colab_type": "text"
      },
      "source": [
        "<a href=\"https://colab.research.google.com/github/rc-dbe/intro-python/blob/master/002_data_types.ipynb\" target=\"_parent\"><img src=\"https://colab.research.google.com/assets/colab-badge.svg\" alt=\"Open In Colab\"/></a>"
      ]
    },
    {
      "cell_type": "markdown",
      "metadata": {
        "id": "K62nVPYYwPRt",
        "colab_type": "text"
      },
      "source": [
        "*Research Center Digital Business Ecosystem - Telkom University*\n",
        "\n",
        "\n",
        "---\n",
        "\n"
      ]
    },
    {
      "cell_type": "markdown",
      "metadata": {
        "id": "0lv5orlUufRY",
        "colab_type": "text"
      },
      "source": [
        "# **Python Data Types**\n",
        "Data types are the classification or categorization of data items. It represents the kind of value that tells what operations can be performed on a particular data. Since everything is an object in Python programming, data types are actually classes and variables are instance (object) of these classes."
      ]
    },
    {
      "cell_type": "markdown",
      "metadata": {
        "id": "2EW91AFVuYzA",
        "colab_type": "text"
      },
      "source": [
        "## **Numeric**\n",
        "In Python, numeric data type represent the data which has numeric value. Numeric value can be integer, floating number or even complex numbers. These values are defined as int, float and complex class in Python"
      ]
    },
    {
      "cell_type": "code",
      "metadata": {
        "id": "eEu-fKLlx5KU",
        "colab_type": "code",
        "colab": {}
      },
      "source": [
        "# Integers\n",
        "a = 5\n",
        "print(\"Type of a: \", type(a)) "
      ],
      "execution_count": null,
      "outputs": []
    },
    {
      "cell_type": "code",
      "metadata": {
        "id": "8k7qJK_Gx8rd",
        "colab_type": "code",
        "colab": {}
      },
      "source": [
        "# Float\n",
        "b = 5.0\n",
        "print(\"\\nType of b: \", type(b))"
      ],
      "execution_count": null,
      "outputs": []
    },
    {
      "cell_type": "code",
      "metadata": {
        "id": "bGVaX6BKx-6j",
        "colab_type": "code",
        "colab": {}
      },
      "source": [
        "# Complex\n",
        "c = 2 + 4j\n",
        "print(\"\\nType of c: \", type(c)) "
      ],
      "execution_count": null,
      "outputs": []
    },
    {
      "cell_type": "markdown",
      "metadata": {
        "colab_type": "text",
        "id": "ztDJ1F_YyI1g"
      },
      "source": [
        "## **Sequence Type**\n",
        "In Python, sequence is the ordered collection of similar or different data types. Sequences allows to store multiple values in an organized and efficient fashion. There are several sequence types in Python such as: String, List, Tuple"
      ]
    },
    {
      "cell_type": "code",
      "metadata": {
        "id": "H2jnugJkyHSf",
        "colab_type": "code",
        "colab": {}
      },
      "source": [
        "# String  \n",
        "String = \"I'm a Geek\"\n",
        "print(String)  \n",
        "print(type(String))"
      ],
      "execution_count": null,
      "outputs": []
    },
    {
      "cell_type": "code",
      "metadata": {
        "id": "o1qZ5lJQyoDu",
        "colab_type": "code",
        "colab": {}
      },
      "source": [
        "# List\n",
        "List = ['GeeksForGeeks'] \n",
        "print(List)\n",
        "print(type(List)) "
      ],
      "execution_count": null,
      "outputs": []
    },
    {
      "cell_type": "code",
      "metadata": {
        "id": "IMZS8gKKzFX8",
        "colab_type": "code",
        "colab": {}
      },
      "source": [
        "# Tuple\n",
        "Tuple = ('Geeks', 'For')  \n",
        "print(Tuple)\n",
        "print(type(Tuple)) "
      ],
      "execution_count": null,
      "outputs": []
    },
    {
      "cell_type": "markdown",
      "metadata": {
        "colab_type": "text",
        "id": "69Bo4lgOzlqZ"
      },
      "source": [
        "## **Boolean**\n",
        "Data type with one of the two built-in values, True or False. Boolean objects that are equal to True are truthy (true), and those equal to False are falsy (false). But non-Boolean objects can be evaluated in Boolean context as well and determined to be true or false. It is denoted by the class bool"
      ]
    },
    {
      "cell_type": "code",
      "metadata": {
        "id": "sxlbIGmKzvcl",
        "colab_type": "code",
        "colab": {}
      },
      "source": [
        "# Boolean\n",
        "print(type(True)) \n",
        "print(type(False)) "
      ],
      "execution_count": null,
      "outputs": []
    },
    {
      "cell_type": "markdown",
      "metadata": {
        "colab_type": "text",
        "id": "ySFlMbAG0Fpu"
      },
      "source": [
        "## **Set**\n",
        "Sets can be created by using the built-in set() function with an iterable object or a sequence by placing the sequence inside curly braces, separated by ‘comma’. Type of elements in a set need not be the same, various mixed-up data type values can also be passed to the set."
      ]
    },
    {
      "cell_type": "code",
      "metadata": {
        "id": "7-GNey_G0Kbe",
        "colab_type": "code",
        "colab": {}
      },
      "source": [
        "# Set \n",
        "Set = set([\"Geeks\", \"For\", \"Geeks\"])   \n",
        "print(Set)\n",
        "print(type(Set))"
      ],
      "execution_count": null,
      "outputs": []
    },
    {
      "cell_type": "markdown",
      "metadata": {
        "colab_type": "text",
        "id": "BP7EyJeU0hCJ"
      },
      "source": [
        "## **Dictionary**\n",
        "Dictionary in Python is an unordered collection of data values, used to store data values like a map, which unlike other Data Types that hold only single value as an element, Dictionary holds key:value pair. Key-value is provided in the dictionary to make it more optimized. Each key-value pair in a Dictionary is separated by a colon :, whereas each key is separated by a ‘comma’."
      ]
    },
    {
      "cell_type": "code",
      "metadata": {
        "id": "8vl8AYWX0mux",
        "colab_type": "code",
        "colab": {}
      },
      "source": [
        "# Dictionary \n",
        "Dict = {1: 'Geeks', 2: 'For', 3: 'Geeks'}  \n",
        "print(Dict)  \n",
        "print(type(Dict))"
      ],
      "execution_count": null,
      "outputs": []
    }
  ]
}